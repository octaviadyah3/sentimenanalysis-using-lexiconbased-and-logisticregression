{
  "nbformat": 4,
  "nbformat_minor": 0,
  "metadata": {
    "colab": {
      "provenance": [],
      "authorship_tag": "ABX9TyNeoaCHA6AhfJaGAKTfAuVa",
      "include_colab_link": true
    },
    "kernelspec": {
      "name": "python3",
      "display_name": "Python 3"
    },
    "language_info": {
      "name": "python"
    }
  },
  "cells": [
    {
      "cell_type": "markdown",
      "metadata": {
        "id": "view-in-github",
        "colab_type": "text"
      },
      "source": [
        "<a href=\"https://colab.research.google.com/github/octaviadyah3/sentimenanalysis-using-lexiconbased-and-logisticregression/blob/main/ML_KLASIFIKASI.ipynb\" target=\"_parent\"><img src=\"https://colab.research.google.com/assets/colab-badge.svg\" alt=\"Open In Colab\"/></a>"
      ]
    },
    {
      "cell_type": "code",
      "execution_count": 1,
      "metadata": {
        "colab": {
          "base_uri": "https://localhost:8080/"
        },
        "id": "xgM2vnqWfSmz",
        "outputId": "faf00a12-dcb7-4aaf-d316-10d016ccf1de"
      },
      "outputs": [
        {
          "output_type": "stream",
          "name": "stdout",
          "text": [
            "Cloning into 'sentimenanalysis-using-lexiconbased-and-logisticregression'...\n",
            "remote: Enumerating objects: 26, done.\u001b[K\n",
            "remote: Counting objects: 100% (26/26), done.\u001b[K\n",
            "remote: Compressing objects: 100% (25/25), done.\u001b[K\n",
            "remote: Total 26 (delta 6), reused 0 (delta 0), pack-reused 0\u001b[K\n",
            "Receiving objects: 100% (26/26), 1.66 MiB | 11.25 MiB/s, done.\n",
            "Resolving deltas: 100% (6/6), done.\n"
          ]
        }
      ],
      "source": [
        "!git clone https://github.com/octaviadyah3/sentimenanalysis-using-lexiconbased-and-logisticregression.git"
      ]
    },
    {
      "cell_type": "code",
      "source": [
        "import pandas as pd\n",
        "import numpy as np\n",
        "import seaborn as sns\n",
        "import matplotlib.pyplot as plt"
      ],
      "metadata": {
        "id": "Azb7SHbQgCnb"
      },
      "execution_count": 2,
      "outputs": []
    },
    {
      "cell_type": "code",
      "source": [
        "df_train = pd.read_excel(\"/content/sentimenanalysis-using-lexiconbased-and-logisticregression/hasil_sentimen_polarity.xlsx\")\n",
        "df_train\n",
        "df_train.head()"
      ],
      "metadata": {
        "collapsed": true,
        "id": "FPrwOl0vkbp5"
      },
      "execution_count": null,
      "outputs": []
    },
    {
      "cell_type": "code",
      "source": [
        "from sklearn.model_selection import train_test_split\n",
        "from sklearn.feature_extraction.text import TfidfVectorizer\n",
        "from scipy.sparse import hstack\n",
        "from sklearn.linear_model import LogisticRegression\n",
        "from sklearn.naive_bayes import MultinomialNB\n",
        "from sklearn.ensemble import RandomForestClassifier\n",
        "from sklearn.metrics import classification_report, confusion_matrix, f1_score, accuracy_score"
      ],
      "metadata": {
        "id": "whrq3XQnkkcE"
      },
      "execution_count": 4,
      "outputs": []
    },
    {
      "cell_type": "code",
      "source": [
        "X_train, X_val, y_train, y_val = train_test_split(\n",
        "    df_train[[\"Text Filtering\", \"Polarity Score\"]],\n",
        "    df_train[\"Indonesia Sentiment\"],\n",
        "    test_size=0.2,\n",
        "    shuffle=True\n",
        ")\n",
        "\n",
        "# Menggunakan TfidfVectorizer untuk memproses teks\n",
        "vectorizer = TfidfVectorizer()\n",
        "X_train_text_tfidf = vectorizer.fit_transform(X_train[\"Text Filtering\"])\n",
        "X_val_text_tfidf = vectorizer.transform(X_val[\"Text Filtering\"])\n",
        "\n",
        "# Menggabungkan hasil TF-IDF dengan fitur Polarity Score\n",
        "X_train_combined = hstack([X_train_text_tfidf, X_train[\"Polarity Score\"].values.reshape(-1, 1)])\n",
        "X_val_combined = hstack([X_val_text_tfidf, X_val[\"Polarity Score\"].values.reshape(-1, 1)])"
      ],
      "metadata": {
        "id": "wfArdWivkts5"
      },
      "execution_count": 5,
      "outputs": []
    },
    {
      "cell_type": "code",
      "source": [
        "# Initialize the Multinomial Naive Bayes model\n",
        "from sklearn.naive_bayes import MultinomialNB\n",
        "nb_tfidf = MultinomialNB()\n",
        "\n",
        "# Assuming 'X_train_text_tfidf' from previous cells holds the vectorized data\n",
        "nb_tfidf.fit(X_train_text_tfidf, y_train)  #model\n",
        "\n",
        "# Similarly, for predictions, use 'X_val_text_tfidf'\n",
        "y_pred = nb_tfidf.predict(X_val_text_tfidf)\n",
        "\n",
        "# Menghitung dan mencetak laporan klasifikasi\n",
        "print(\"Classification Report:\")\n",
        "print(classification_report(y_val, y_pred))\n",
        "\n",
        "# Menghitung dan mencetak matriks kebingungan (confusion matrix)\n",
        "print(\"Confusion Matrix:\")\n",
        "print(confusion_matrix(y_val, y_pred))\n",
        "\n",
        "# Menghitung dan mencetak F1 Score\n",
        "f1 = f1_score(y_val, y_pred, average='weighted')\n",
        "print(f\"F1 Score (weighted): {f1}\")\n",
        "\n",
        "# Menghitung dan mencetak Accuracy Score\n",
        "accuracy = accuracy_score(y_val, y_pred)\n",
        "print(f\"Accuracy Score: {accuracy}\")"
      ],
      "metadata": {
        "collapsed": true,
        "id": "phWS4RuikwOL"
      },
      "execution_count": null,
      "outputs": []
    },
    {
      "cell_type": "code",
      "source": [
        "rf_tfidf = RandomForestClassifier()\n",
        "\n",
        "# Assuming 'X_train_text_tfidf' from previous cells holds the vectorized data\n",
        "rf_tfidf.fit(X_train_text_tfidf, y_train)  #model\n",
        "\n",
        "# Similarly, for predictions, use 'X_val_text_tfidf'\n",
        "y_pred = rf_tfidf.predict(X_val_text_tfidf)\n",
        "\n",
        "# Menghitung dan mencetak laporan klasifikasi\n",
        "print(\"Classification Report:\")\n",
        "print(classification_report(y_val, y_pred))\n",
        "\n",
        "# Menghitung dan mencetak matriks kebingungan (confusion matrix)\n",
        "print(\"Confusion Matrix:\")\n",
        "print(confusion_matrix(y_val, y_pred))\n",
        "\n",
        "# Menghitung dan mencetak F1 Score\n",
        "f1 = f1_score(y_val, y_pred, average='weighted')\n",
        "print(f\"F1 Score (weighted): {f1}\")\n",
        "\n",
        "# Menghitung dan mencetak Accuracy Score\n",
        "accuracy = accuracy_score(y_val, y_pred)\n",
        "print(f\"Accuracy Score: {accuracy}\")\n",
        "\n"
      ],
      "metadata": {
        "collapsed": true,
        "id": "u9hdg600k6SH"
      },
      "execution_count": null,
      "outputs": []
    },
    {
      "cell_type": "code",
      "source": [
        "lr_tfidf = LogisticRegression(solver='liblinear', C=10, penalty='l2', multi_class='ovr')\n",
        "# Assuming 'X_train_text_tfidf' from previous cells holds the vectorized data\n",
        "lr_tfidf.fit(X_train_text_tfidf, y_train)  #model\n",
        "\n",
        "# Similarly, for predictions, use 'X_val_text_tfidf'\n",
        "y_pred = lr_tfidf.predict(X_val_text_tfidf)\n",
        "\n",
        "# Menghitung dan mencetak laporan klasifikasi\n",
        "print(\"Classification Report:\")\n",
        "print(classification_report(y_val, y_pred))\n",
        "\n",
        "# Menghitung dan mencetak matriks kebingungan (confusion matrix)\n",
        "print(\"Confusion Matrix:\")\n",
        "print(confusion_matrix(y_val, y_pred))\n",
        "\n",
        "# Menghitung dan mencetak F1 Score\n",
        "f1 = f1_score(y_val, y_pred, average='weighted')\n",
        "print(f\"F1 Score (weighted): {f1}\")\n",
        "\n",
        "# Menghitung dan mencetak Accuracy Score\n",
        "accuracy = accuracy_score(y_val, y_pred)\n",
        "print(f\"Accuracy Score: {accuracy}\")"
      ],
      "metadata": {
        "collapsed": true,
        "id": "YXB1mk3glIel"
      },
      "execution_count": null,
      "outputs": []
    }
  ]
}